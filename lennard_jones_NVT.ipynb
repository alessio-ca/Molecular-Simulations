{
 "cells": [
  {
   "cell_type": "code",
   "execution_count": 1,
   "id": "7dc72e12-5212-474a-a4dc-ea699c877d95",
   "metadata": {},
   "outputs": [
    {
     "name": "stdout",
     "output_type": "stream",
     "text": [
      "********************************************************************************\n",
      "WARNING: Imported VTK version (9.3) does not match the one used\n",
      "         to build the TVTK classes (9.2). This may cause problems.\n",
      "         Please rebuild TVTK.\n",
      "********************************************************************************\n",
      "\n",
      "Notebook initialized with png backend.\n"
     ]
    }
   ],
   "source": [
    "import matplotlib.pyplot as plt\n",
    "import numpy as np\n",
    "from mayavi import mlab\n",
    "\n",
    "# For interactive plots, leave default backend (ipy)\n",
    "mlab.init_notebook(backend=\"png\")"
   ]
  },
  {
   "cell_type": "code",
   "execution_count": 2,
   "id": "542c2564-fd83-4d5d-8dab-d6f836eb45b4",
   "metadata": {},
   "outputs": [],
   "source": [
    "from src.lj_nvt import lj_nvt\n",
    "from utils import plot_samples, plot_snapshot"
   ]
  },
  {
   "cell_type": "code",
   "execution_count": null,
   "id": "6b5ba4bb-51e0-4fdb-9c96-4f1f40a59181",
   "metadata": {},
   "outputs": [
    {
     "name": "stdout",
     "output_type": "stream",
     "text": [
      "Equi Step: 100/100 Step: 0.23 Acc: 0.52\n",
      "Step: 315/1000 Energy: -4.627917 Acc: 0.51\r"
     ]
    }
   ],
   "source": [
    "N = 500\n",
    "rho = 0.8\n",
    "T = 2.0\n",
    "delta = 0.25\n",
    "pos, u, vr = lj_nvt(N, rho, T, delta)\n",
    "P = rho * T + vr / (3 * N / rho)"
   ]
  },
  {
   "cell_type": "code",
   "execution_count": null,
   "id": "c9a67f3d-01e7-435d-b045-4a8eb32ba509",
   "metadata": {},
   "outputs": [],
   "source": [
    "plot_samples(u, \"u\")"
   ]
  },
  {
   "cell_type": "code",
   "execution_count": null,
   "id": "aa0166e3-0a0c-4edb-ba8b-1557b9dff66f",
   "metadata": {},
   "outputs": [],
   "source": [
    "plot_samples(P, \"P\")"
   ]
  },
  {
   "cell_type": "code",
   "execution_count": null,
   "id": "a3c68dc4-6115-413f-ae7e-ccf9d9e3f265",
   "metadata": {},
   "outputs": [],
   "source": [
    "# Clear ax before plotting\n",
    "mlab.clf()\n",
    "plot_snapshot(pos, distance=5*(N/rho) ** (1/3))"
   ]
  },
  {
   "cell_type": "code",
   "execution_count": null,
   "id": "ccddfd6a-4c2a-41c2-b4c9-88ffba89746f",
   "metadata": {},
   "outputs": [],
   "source": []
  }
 ],
 "metadata": {
  "kernelspec": {
   "display_name": "Python 3 (ipykernel)",
   "language": "python",
   "name": "python3"
  },
  "language_info": {
   "codemirror_mode": {
    "name": "ipython",
    "version": 3
   },
   "file_extension": ".py",
   "mimetype": "text/x-python",
   "name": "python",
   "nbconvert_exporter": "python",
   "pygments_lexer": "ipython3",
   "version": "3.10.13"
  }
 },
 "nbformat": 4,
 "nbformat_minor": 5
}
