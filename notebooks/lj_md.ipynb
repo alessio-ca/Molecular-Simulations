{
 "cells": [
  {
   "cell_type": "code",
   "execution_count": 1,
   "id": "e92681b8-f6e9-4122-b07b-e647c6e3a7a6",
   "metadata": {},
   "outputs": [
    {
     "name": "stdout",
     "output_type": "stream",
     "text": [
      "********************************************************************************\n",
      "WARNING: Imported VTK version (9.3) does not match the one used\n",
      "         to build the TVTK classes (9.2). This may cause problems.\n",
      "         Please rebuild TVTK.\n",
      "********************************************************************************\n",
      "\n"
     ]
    }
   ],
   "source": [
    "import matplotlib.pyplot as plt\n",
    "import numpy as np\n",
    "from molecular_simulations.utils import writeXYZ, Accumulator"
   ]
  },
  {
   "cell_type": "code",
   "execution_count": 2,
   "id": "2214f158",
   "metadata": {},
   "outputs": [],
   "source": [
    "from typing import Tuple\n",
    "\n",
    "import numpy as np\n",
    "from numba import njit\n",
    "\n",
    "from molecular_simulations.utils import (\n",
    "    apply_bc,\n",
    "    dist,\n",
    "    initialise_lattice,\n",
    "    initialise_velocities,\n",
    ")\n",
    "\n",
    "\n",
    "def lj_md(\n",
    "    N: int,\n",
    "    rho: float,\n",
    "    T: float,\n",
    "    dt: float,\n",
    "    eqnum: int = 100,  # Equilibration steps\n",
    "    snum: int = 1000,  # Sampling steps\n",
    ") -> Tuple[np.ndarray, np.ndarray, np.ndarray]:\n",
    "    np.random.seed(42)\n",
    "    # Reduced units:\n",
    "    # epsilon (energy)\n",
    "    # sigma (length)\n",
    "    # m (mass)\n",
    "\n",
    "    # U* = U * epsilon\n",
    "    # T* = kb * T / epsilon\n",
    "    # P* = P * sigma^3 / epsilon\n",
    "    # rho* = rho * sigma^3\n",
    "\n",
    "    V = N / rho\n",
    "    L = V ** (1 / 3)\n",
    "    cutoff = 2.5  # cutoff\n",
    "    cutoff_sq = cutoff**2\n",
    "    # Tail of the energy contribution due to truncation\n",
    "    tail_e = ((1 / cutoff_sq) ** 6 - (1 / cutoff_sq) ** 3)\n",
    "\n",
    "    def single_force(\n",
    "        dists: np.ndarray,\n",
    "        delta_pos: np.ndarray,\n",
    "        forces: np.ndarray,\n",
    "    ) -> Tuple[float, np.ndarray]:\n",
    "        # Apply cutoff as boolean mask & calculate all single energy contributions\n",
    "        rc = dists < cutoff_sq\n",
    "        r2 = 1 / dists[rc]\n",
    "        r6 = r2**3\n",
    "        en = r6 * (r6 - 1)\n",
    "        term = r2 * r6 * (r6 - 0.5)\n",
    "        ff = (\n",
    "            delta_pos[rc] * term[:, None]\n",
    "        )  # Forces on particle i by all remaining pairs\n",
    "        forces[rc] -= ff  # Substract ff to the forces array (3rd law)\n",
    "\n",
    "        return en.sum() - tail_e*rc.sum(), ff.sum(axis=0)\n",
    "\n",
    "    def update_forces(positions: np.ndarray, forces: np.ndarray) -> float:\n",
    "        en = 0\n",
    "        forces[:] = 0\n",
    "        for i in range(N - 1):\n",
    "            # Calculate the force on particle i (and the energy)\n",
    "            particle = positions[i]\n",
    "            delta_pos, dists = dist(positions[i + 1 :], particle, L)\n",
    "            eni, fi = single_force(dists, delta_pos, forces[i + 1 :])\n",
    "            # Update energy and forces\n",
    "            en += eni\n",
    "            forces[i] += fi\n",
    "        return en\n",
    "    \n",
    "    def integrate(\n",
    "        positions: np.ndarray,\n",
    "        positions_o: np.ndarray,\n",
    "        velocities: np.ndarray,\n",
    "        forces: np.ndarray,\n",
    "    ):\n",
    "        positions_n = 2 * positions - positions_o + dt**2 * 48 * forces  # Verlet\n",
    "        velocities[:] = (positions_n - positions_o) / (2 * dt)  # Velocity\n",
    "        # Update\n",
    "        positions_o[:] = positions[:]\n",
    "        positions[:] = positions_n[:]\n",
    "    \n",
    "\n",
    "    def md_loop(positions: np.ndarray, positions_o: np.ndarray, velocities: np.ndarray, forces: np.ndarray) -> Tuple[float, float]:\n",
    "        en = update_forces(positions, forces)\n",
    "        integrate(positions, positions_o, velocities, forces)\n",
    "        v_sq = (velocities**2).sum() / N\n",
    "        return en, v_sq\n",
    "    \n",
    "    def eq_run():\n",
    "        for i in range(eqnum):\n",
    "            en, v_sq = md_loop(positions, positions_o, velocities, forces)\n",
    "            k = v_sq / 2\n",
    "            u = 4 * en / N\n",
    "            \n",
    "            eq_array[i,0] = u + v_sq/2\n",
    "            eq_array[i,1] = u\n",
    "            eq_array[i,2] = k\n",
    "            frames[i] = positions\n",
    "\n",
    "            if (i+1) % 100 == 0:\n",
    "                print(\n",
    "                    \"\\rStep: {0}/{1} Energy: {2:.6f} U: {3:.6f} K: {4:.6f}\".format(\n",
    "                        i+1, eqnum, u + v_sq/2, u, k\n",
    "                    ),\n",
    "                end=\"\\r\",\n",
    "                )\n",
    "\n",
    "    def prod_run():\n",
    "        for i in range(snum):\n",
    "            en, v_sq = md_loop(positions, positions_o, velocities, forces)\n",
    "            accumulator_k.accumulate(v_sq/ 2)\n",
    "            accumulator_u.accumulate(4 * en / N)\n",
    "\n",
    "            if (i+1) % 1000 == 0:\n",
    "                print(\n",
    "                    \"Step: {0}/{1} Energy: {2:.6f} U: {3:.6f} K: {4:.6f}\".format(\n",
    "                        i+1, snum, 4 * en / N + v_sq/2, 4 * en / N, v_sq / 2\n",
    "                    ),\n",
    "                    end=\"\\r\",\n",
    "                )\n",
    "\n",
    "    # Tracking arrays\n",
    "    positions = initialise_lattice(N, L)\n",
    "    velocities = initialise_velocities(N, T)\n",
    "    forces = np.zeros(shape=(N, 3))\n",
    "    positions_o = positions - velocities * dt\n",
    "    eq_array = np.zeros(shape=(eqnum,3))\n",
    "    frames = np.zeros(shape=(eqnum,positions.shape[0],positions.shape[1]))\n",
    "    eq_run()\n",
    "    # Pad with still positions for 100 frames\n",
    "    frames = np.concatenate((np.repeat(initialise_lattice(N, L)[None,:], 100, axis=0), frames), axis=0)\n",
    "\n",
    "    accumulator_k = Accumulator(snum)\n",
    "    accumulator_u = Accumulator(snum)\n",
    "    prod_run()\n",
    "\n",
    "    return eq_array, positions, velocities, forces, accumulator_k, accumulator_u, frames"
   ]
  },
  {
   "cell_type": "code",
   "execution_count": 3,
   "id": "fc86cd7e-6520-4bbe-bf8a-abedd1b938ba",
   "metadata": {},
   "outputs": [
    {
     "name": "stdout",
     "output_type": "stream",
     "text": [
      "Step: 2500/2500 Energy: -2.163518 U: -4.493667 K: 2.330149\r"
     ]
    }
   ],
   "source": [
    "N = 108\n",
    "rho = 0.8442\n",
    "T = 0.728\n",
    "delta = 0.001\n",
    "eq_run, pos, vel, forc, acc_k, acc_u, frames = lj_md(N, rho, T, delta, eqnum=2500, snum=0)"
   ]
  },
  {
   "cell_type": "code",
   "execution_count": 14,
   "id": "50b80f60-bffa-4940-9bef-89062ebdccf5",
   "metadata": {},
   "outputs": [
    {
     "data": {
      "image/png": "[encoded data removed]",
      "text/plain": [
       "<Figure size 640x480 with 1 Axes>"
      ]
     },
     "metadata": {},
     "output_type": "display_data"
    }
   ],
   "source": [
    "_, ax = plt.subplots()\n",
    "ax.plot(eq_run[:,0], color='k', ls='--', label='Total')\n",
    "ax.plot(eq_run[:,1], label = 'Potential')\n",
    "ax.plot(eq_run[:,2], label = 'Kinetic')\n",
    "ax.set_xlabel('Time steps')\n",
    "ax.set_ylabel('U/N')\n",
    "ax.legend(bbox_to_anchor=(0.95, 0.7), bbox_transform=ax.transAxes);"
   ]
  },
  {
   "cell_type": "code",
   "execution_count": 8,
   "id": "37f35552",
   "metadata": {},
   "outputs": [],
   "source": [
    "from molecular_simulations.utils import plot_snapshot\n",
    "from mayavi import mlab\n",
    "\n",
    "p = mlab.points3d(\n",
    "    frames[0, :,0], frames[0, :, 1], frames[0,:, 2], np.ones(shape=(len(pos),)), scale_factor=1\n",
    ")\n",
    "\n"
   ]
  },
  {
   "cell_type": "code",
   "execution_count": 9,
   "id": "09b09864",
   "metadata": {},
   "outputs": [
    {
     "ename": "AttributeError",
     "evalue": "'Glyph' object has no attribute 'show_pipeline'",
     "output_type": "error",
     "traceback": [
      "\u001b[1;31m---------------------------------------------------------------------------\u001b[0m",
      "\u001b[1;31mAttributeError\u001b[0m                            Traceback (most recent call last)",
      "Cell \u001b[1;32mIn[9], line 1\u001b[0m\n\u001b[1;32m----> 1\u001b[0m \u001b[43mp\u001b[49m\u001b[38;5;241;43m.\u001b[39;49m\u001b[43mshow_pipeline\u001b[49m()\n",
      "\u001b[1;31mAttributeError\u001b[0m: 'Glyph' object has no attribute 'show_pipeline'"
     ]
    }
   ],
   "source": [
    "p.show_pipeline()"
   ]
  },
  {
   "cell_type": "code",
   "execution_count": null,
   "id": "b27700ca",
   "metadata": {},
   "outputs": [],
   "source": []
  }
 ],
 "metadata": {
  "kernelspec": {
   "display_name": "Python 3 (ipykernel)",
   "language": "python",
   "name": "python3"
  },
  "language_info": {
   "codemirror_mode": {
    "name": "ipython",
    "version": 3
   },
   "file_extension": ".py",
   "mimetype": "text/x-python",
   "name": "python",
   "nbconvert_exporter": "python",
   "pygments_lexer": "ipython3",
   "version": "3.10.11"
  }
 },
 "nbformat": 4,
 "nbformat_minor": 5
}
